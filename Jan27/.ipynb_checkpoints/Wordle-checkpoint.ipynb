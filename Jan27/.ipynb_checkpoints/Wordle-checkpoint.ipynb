{
 "cells": [
  {
   "cell_type": "code",
   "execution_count": 1,
   "id": "2e70c76d",
   "metadata": {},
   "outputs": [],
   "source": [
    "import random"
   ]
  },
  {
   "cell_type": "code",
   "execution_count": 2,
   "id": "f871ebe7",
   "metadata": {},
   "outputs": [],
   "source": [
    "wordle_list = [line.strip() for line in open(\"wordle-answers-alphabetical.txt\")]\n",
    "wordle_revised_list = wordle_list"
   ]
  },
  {
   "cell_type": "code",
   "execution_count": 3,
   "id": "0b921adb",
   "metadata": {},
   "outputs": [],
   "source": [
    "random_word = random.choice(wordle_list)"
   ]
  },
  {
   "cell_type": "code",
   "execution_count": 4,
   "id": "6f18844a",
   "metadata": {},
   "outputs": [],
   "source": [
    "def removeLetters(myList, letterList):\n",
    "    revisedList = []\n",
    "    for word in myList:\n",
    "        flag = 0\n",
    "        for i in letterList:\n",
    "            if i in word:\n",
    "                flag = 1\n",
    "                break\n",
    "        if flag == 1:\n",
    "            continue\n",
    "            \n",
    "        revisedList.append(word)\n",
    "        \n",
    "    return revisedList"
   ]
  },
  {
   "cell_type": "code",
   "execution_count": 5,
   "id": "64aa655f",
   "metadata": {},
   "outputs": [],
   "source": [
    "def removePosition(myList, pairsList):\n",
    "    revisedList = []\n",
    "    for word in myList:\n",
    "        flag = 0 \n",
    "        for pair in pairsList:\n",
    "            if word[pair[1]] != pair[0]:\n",
    "                flag = 1\n",
    "                break\n",
    "            \n",
    "        if flag == 1:\n",
    "            continue\n",
    "        \n",
    "        revisedList.append(word)\n",
    "    \n",
    "    return revisedList"
   ]
  },
  {
   "cell_type": "code",
   "execution_count": 35,
   "id": "18b25769",
   "metadata": {},
   "outputs": [],
   "source": [
    "remaining = {line.strip() for line in open(\"wordle-answers-alphabetical.txt\")}"
   ]
  },
  {
   "cell_type": "code",
   "execution_count": null,
   "id": "256696a2",
   "metadata": {},
   "outputs": [],
   "source": [
    "while len(remaining)!=0:\n",
    "    random_word = random.choice(list(remaining))\n",
    "    print(\"Try\",random_word)\n",
    "    feedback = [int(l) for l in input(\"What was the feedback\")]\n",
    "    for letter, code, position in zip(random_word, feedback, range(5)):\n",
    "        if code == 0:\n",
    "            remaining = {w for w in remaining if letter not in w}\n",
    "        if code == 1:\n",
    "            remaining = {w for w in remaining if letter in w and w[position]!=letter}\n",
    "        if code == 2:\n",
    "            remaining = {w for w in remaining if w[position]==letter}\n",
    "    print(\"Number of choices left: \", len(remaining))\n",
    "\n",
    "print(\"Well done!\")"
   ]
  },
  {
   "cell_type": "code",
   "execution_count": null,
   "id": "45c0cd59",
   "metadata": {},
   "outputs": [],
   "source": []
  },
  {
   "cell_type": "code",
   "execution_count": null,
   "id": "3e7231a5",
   "metadata": {},
   "outputs": [],
   "source": []
  }
 ],
 "metadata": {
  "kernelspec": {
   "display_name": "Python 3 (ipykernel)",
   "language": "python",
   "name": "python3"
  },
  "language_info": {
   "codemirror_mode": {
    "name": "ipython",
    "version": 3
   },
   "file_extension": ".py",
   "mimetype": "text/x-python",
   "name": "python",
   "nbconvert_exporter": "python",
   "pygments_lexer": "ipython3",
   "version": "3.9.7"
  }
 },
 "nbformat": 4,
 "nbformat_minor": 5
}
