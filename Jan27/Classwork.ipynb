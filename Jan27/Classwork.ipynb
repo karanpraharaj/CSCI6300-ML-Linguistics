{
 "cells": [
  {
   "cell_type": "code",
   "execution_count": 5,
   "id": "64ec900c",
   "metadata": {},
   "outputs": [
    {
     "data": {
      "text/plain": [
       "[('t', 'h'),\n",
       " ('h', 'i'),\n",
       " ('i', 's'),\n",
       " ('s', ' '),\n",
       " (' ', 'i'),\n",
       " ('i', 's'),\n",
       " ('s', ' '),\n",
       " (' ', 't'),\n",
       " ('t', 'h'),\n",
       " ('h', 'a'),\n",
       " ('a', 't'),\n",
       " ('t', ' '),\n",
       " (' ', 's'),\n",
       " ('s', 'e'),\n",
       " ('e', 'n'),\n",
       " ('n', 't'),\n",
       " ('t', 'e'),\n",
       " ('e', 'n'),\n",
       " ('n', 'c'),\n",
       " ('c', 'e')]"
      ]
     },
     "execution_count": 5,
     "metadata": {},
     "output_type": "execute_result"
    }
   ],
   "source": [
    "t = 'this is that sentence'\n",
    "list(zip(t,t[1:]))"
   ]
  },
  {
   "cell_type": "code",
   "execution_count": 2,
   "id": "f8b08246",
   "metadata": {},
   "outputs": [],
   "source": [
    "letter_bigrams = [b[0]+b[1] for b in zip(t,t[1:])]"
   ]
  },
  {
   "cell_type": "code",
   "execution_count": 3,
   "id": "7cf530e0",
   "metadata": {},
   "outputs": [
    {
     "data": {
      "text/plain": [
       "['th',\n",
       " 'hi',\n",
       " 'is',\n",
       " 's ',\n",
       " ' i',\n",
       " 'is',\n",
       " 's ',\n",
       " ' t',\n",
       " 'th',\n",
       " 'ha',\n",
       " 'at',\n",
       " 't ',\n",
       " ' s',\n",
       " 'se',\n",
       " 'en',\n",
       " 'nt',\n",
       " 'te',\n",
       " 'en',\n",
       " 'nc',\n",
       " 'ce']"
      ]
     },
     "execution_count": 3,
     "metadata": {},
     "output_type": "execute_result"
    }
   ],
   "source": [
    "letter_bigrams"
   ]
  },
  {
   "cell_type": "markdown",
   "id": "c139996d",
   "metadata": {},
   "source": [
    "Finding intersections between words"
   ]
  },
  {
   "cell_type": "code",
   "execution_count": 8,
   "id": "de8565fb",
   "metadata": {},
   "outputs": [
    {
     "name": "stdout",
     "output_type": "stream",
     "text": [
      "set()\n",
      "set()\n",
      "{'e', 's'}\n",
      "{'e', 's'}\n",
      "{'e'}\n",
      "set()\n"
     ]
    }
   ],
   "source": [
    "mylist = ['cat', 'dog', 'horse', 'mouse', 'zebra', 'iguana']\n",
    "myset = {'s','e'}\n",
    "\n",
    "for word in mylist:\n",
    "    print(set(word) & myset)"
   ]
  },
  {
   "cell_type": "code",
   "execution_count": 11,
   "id": "f71041e4",
   "metadata": {},
   "outputs": [],
   "source": [
    "def removeLetters(theList, ltrs):\n",
    "    return [w for w in theList if len(set(w) & ltrs)==0]"
   ]
  },
  {
   "cell_type": "code",
   "execution_count": 12,
   "id": "12ef893e",
   "metadata": {},
   "outputs": [
    {
     "data": {
      "text/plain": [
       "['cat', 'dog', 'iguana']"
      ]
     },
     "execution_count": 12,
     "metadata": {},
     "output_type": "execute_result"
    }
   ],
   "source": [
    "removeLetters(mylist, myset)"
   ]
  },
  {
   "cell_type": "code",
   "execution_count": 13,
   "id": "e003529e",
   "metadata": {},
   "outputs": [
    {
     "name": "stdout",
     "output_type": "stream",
     "text": [
      "What was the feedbackkaran\n"
     ]
    },
    {
     "ename": "ValueError",
     "evalue": "invalid literal for int() with base 10: 'k'",
     "output_type": "error",
     "traceback": [
      "\u001b[0;31m---------------------------------------------------------------------------\u001b[0m",
      "\u001b[0;31mValueError\u001b[0m                                Traceback (most recent call last)",
      "\u001b[0;32m/var/folders/st/x_vhp24d0s3f39fbdlpvxhqm0000gn/T/ipykernel_29969/1355144359.py\u001b[0m in \u001b[0;36m<module>\u001b[0;34m\u001b[0m\n\u001b[0;32m----> 1\u001b[0;31m \u001b[0mfeedback\u001b[0m \u001b[0;34m=\u001b[0m \u001b[0;34m[\u001b[0m\u001b[0mint\u001b[0m\u001b[0;34m(\u001b[0m\u001b[0ml\u001b[0m\u001b[0;34m)\u001b[0m \u001b[0;32mfor\u001b[0m \u001b[0ml\u001b[0m \u001b[0;32min\u001b[0m \u001b[0minput\u001b[0m\u001b[0;34m(\u001b[0m\u001b[0;34m\"What was the feedback\"\u001b[0m\u001b[0;34m)\u001b[0m\u001b[0;34m]\u001b[0m\u001b[0;34m\u001b[0m\u001b[0;34m\u001b[0m\u001b[0m\n\u001b[0m",
      "\u001b[0;32m/var/folders/st/x_vhp24d0s3f39fbdlpvxhqm0000gn/T/ipykernel_29969/1355144359.py\u001b[0m in \u001b[0;36m<listcomp>\u001b[0;34m(.0)\u001b[0m\n\u001b[0;32m----> 1\u001b[0;31m \u001b[0mfeedback\u001b[0m \u001b[0;34m=\u001b[0m \u001b[0;34m[\u001b[0m\u001b[0mint\u001b[0m\u001b[0;34m(\u001b[0m\u001b[0ml\u001b[0m\u001b[0;34m)\u001b[0m \u001b[0;32mfor\u001b[0m \u001b[0ml\u001b[0m \u001b[0;32min\u001b[0m \u001b[0minput\u001b[0m\u001b[0;34m(\u001b[0m\u001b[0;34m\"What was the feedback\"\u001b[0m\u001b[0;34m)\u001b[0m\u001b[0;34m]\u001b[0m\u001b[0;34m\u001b[0m\u001b[0;34m\u001b[0m\u001b[0m\n\u001b[0m",
      "\u001b[0;31mValueError\u001b[0m: invalid literal for int() with base 10: 'k'"
     ]
    }
   ],
   "source": [
    "feedback = [int(l) for l in input(\"What was the feedback\")]"
   ]
  },
  {
   "cell_type": "code",
   "execution_count": 14,
   "id": "71920718",
   "metadata": {},
   "outputs": [
    {
     "name": "stdout",
     "output_type": "stream",
     "text": [
      "What was the feedback20221\n"
     ]
    }
   ],
   "source": [
    "feedback = [int(l) for l in input(\"What was the feedback\")]"
   ]
  },
  {
   "cell_type": "code",
   "execution_count": 15,
   "id": "f194556b",
   "metadata": {},
   "outputs": [
    {
     "data": {
      "text/plain": [
       "[2, 0, 2, 2, 1]"
      ]
     },
     "execution_count": 15,
     "metadata": {},
     "output_type": "execute_result"
    }
   ],
   "source": [
    "feedback"
   ]
  },
  {
   "cell_type": "code",
   "execution_count": null,
   "id": "1814307b",
   "metadata": {},
   "outputs": [],
   "source": []
  }
 ],
 "metadata": {
  "kernelspec": {
   "display_name": "Python 3 (ipykernel)",
   "language": "python",
   "name": "python3"
  },
  "language_info": {
   "codemirror_mode": {
    "name": "ipython",
    "version": 3
   },
   "file_extension": ".py",
   "mimetype": "text/x-python",
   "name": "python",
   "nbconvert_exporter": "python",
   "pygments_lexer": "ipython3",
   "version": "3.9.7"
  }
 },
 "nbformat": 4,
 "nbformat_minor": 5
}
