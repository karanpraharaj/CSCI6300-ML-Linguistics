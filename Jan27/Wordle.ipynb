{
 "cells": [
  {
   "cell_type": "code",
   "execution_count": 33,
   "id": "2e70c76d",
   "metadata": {},
   "outputs": [],
   "source": [
    "import random"
   ]
  },
  {
   "cell_type": "code",
   "execution_count": 34,
   "id": "f871ebe7",
   "metadata": {},
   "outputs": [],
   "source": [
    "wordle_list = [line.strip() for line in open(\"wordle-answers-alphabetical.txt\")]\n",
    "wordle_revised_list = wordle_list"
   ]
  },
  {
   "cell_type": "code",
   "execution_count": 8,
   "id": "0b921adb",
   "metadata": {},
   "outputs": [],
   "source": [
    "random_word = random.choice(wordle_list)"
   ]
  },
  {
   "cell_type": "code",
   "execution_count": 10,
   "id": "6f18844a",
   "metadata": {},
   "outputs": [],
   "source": [
    "def removeLetters(myList, letterList):\n",
    "    revisedList = []\n",
    "    for word in myList:\n",
    "        flag = 0\n",
    "        for i in letterList:\n",
    "            if i in word:\n",
    "                flag = 1\n",
    "                break\n",
    "        if flag == 1:\n",
    "            continue\n",
    "            \n",
    "        revisedList.append(word)\n",
    "        \n",
    "    return revisedList"
   ]
  },
  {
   "cell_type": "code",
   "execution_count": null,
   "id": "64aa655f",
   "metadata": {},
   "outputs": [],
   "source": [
    "def removePosition(myList, pairsList):\n",
    "    revisedList = []\n",
    "    for word in myList:\n",
    "        flag = 0 \n",
    "        for pair in pairsList:\n",
    "            if word[pair[1]] != pair[0]:\n",
    "                flag = 1\n",
    "                break\n",
    "            \n",
    "        if flag == 1:\n",
    "            continue\n",
    "        \n",
    "        revisedList.append(word)\n",
    "    \n",
    "    return revisedList"
   ]
  },
  {
   "cell_type": "code",
   "execution_count": 18,
   "id": "efbf4b3e",
   "metadata": {},
   "outputs": [
    {
     "name": "stdout",
     "output_type": "stream",
     "text": [
      "mount\n"
     ]
    }
   ],
   "source": [
    "target_word = \"mount\"\n",
    "print(target_word)"
   ]
  },
  {
   "cell_type": "code",
   "execution_count": 35,
   "id": "e3e15d2d",
   "metadata": {},
   "outputs": [
    {
     "name": "stdout",
     "output_type": "stream",
     "text": [
      "Try steer\n",
      "What was the feedback01000\n",
      "['s', 'e', 'e', 'r']\n",
      "[]\n",
      "['aback', 'abbot', 'about', 'adapt', 'admin', 'admit', 'adopt', 'adult', 'affix', 'afoot', 'afoul', 'again', 'aging', 'aglow', 'agony', 'album', 'alibi', 'align', 'allay', 'allot', 'allow', 'alloy', 'aloft', 'along', 'aloof', 'aloud', 'alpha', 'amity', 'among', 'amply', 'annoy', 'annul', 'antic', 'anvil', 'aphid', 'aping', 'apply', 'aptly', 'atoll', 'attic', 'audio', 'audit', 'aunty', 'avail', 'avian', 'avoid', 'await', 'awful', 'axial', 'axiom', 'axion', 'bacon', 'badly', 'baggy', 'balmy', 'banal', 'banjo', 'batch', 'baton', 'batty', 'bawdy', 'bayou', 'biddy', 'bigot', 'billy', 'bingo', 'bitty', 'black', 'bland', 'blank', 'blimp', 'blind', 'blink', 'blitz', 'bloat', 'block', 'blond', 'blood', 'bloom', 'blown', 'bluff', 'blunt', 'bobby', 'bongo', 'booby', 'booth', 'booty', 'boozy', 'botch', 'bough', 'bound', 'buddy', 'buggy', 'build', 'built', 'bulky', 'bully', 'bunch', 'bunny', 'butch', 'buxom', 'bylaw', 'cabal', 'cabby', 'cabin', 'cacao', 'cacti', 'caddy', 'canal', 'candy', 'canny', 'canon', 'caput', 'catch', 'catty', 'caulk', 'cavil', 'chaff', 'chain', 'chalk', 'champ', 'chant', 'chick', 'child', 'chili', 'chill', 'china', 'chock', 'chuck', 'chump', 'chunk', 'cinch', 'civic', 'civil', 'clack', 'claim', 'clamp', 'clang', 'clank', 'click', 'cliff', 'climb', 'cling', 'clink', 'cloak', 'clock', 'cloth', 'cloud', 'clout', 'clown', 'cluck', 'clump', 'clung', 'coach', 'cocoa', 'colon', 'comfy', 'comic', 'comma', 'conch', 'condo', 'conic', 'couch', 'cough', 'could', 'count', 'coyly', 'cubic', 'cumin', 'cynic', 'daddy', 'daily', 'dally', 'dandy', 'datum', 'daunt', 'digit', 'dilly', 'dimly', 'dingo', 'dingy', 'ditch', 'ditto', 'ditty', 'dizzy', 'dodgy', 'dogma', 'doing', 'dolly', 'donut', 'doubt', 'dough', 'dowdy', 'downy', 'duchy', 'dully', 'dummy', 'dumpy', 'dutch', 'dying', 'faint', 'faith', 'fancy', 'fanny', 'fatal', 'fatty', 'fault', 'fauna', 'fifth', 'fifty', 'fight', 'filly', 'filmy', 'filth', 'final', 'finch', 'fizzy', 'flack', 'flail', 'flaky', 'flank', 'flick', 'fling', 'flint', 'float', 'flock', 'flood', 'flout', 'flown', 'fluff', 'fluid', 'flung', 'flunk', 'foamy', 'focal', 'foggy', 'folio', 'folly', 'found', 'fully', 'fungi', 'funky', 'funny', 'fuzzy', 'gaily', 'gamma', 'gamut', 'gaudy', 'gaunt', 'gawky', 'gayly', 'ghoul', 'giant', 'giddy', 'gland', 'glint', 'gloat', 'gloom', 'glyph', 'godly', 'going', 'golly', 'gonad', 'goody', 'goofy', 'guava', 'guild', 'guilt', 'gulch', 'gully', 'gumbo', 'gummy', 'guppy', 'habit', 'handy', 'happy', 'hatch', 'haunt', 'havoc', 'hilly', 'hippo', 'hippy', 'hitch', 'hobby', 'holly', 'hotly', 'hound', 'howdy', 'human', 'humid', 'humph', 'hunch', 'hunky', 'hutch', 'icily', 'icing', 'idiom', 'idiot', 'idyll', 'igloo', 'iliac', 'imply', 'inbox', 'ingot', 'inlay', 'input', 'ionic', 'itchy', 'jaunt', 'jazzy', 'jiffy', 'joint', 'jolly', 'juicy', 'jumbo', 'jumpy', 'junta', 'junto', 'kappa', 'kayak', 'khaki', 'kinky', 'kitty', 'knack', 'knock', 'knoll', 'known', 'koala', 'lanky', 'latch', 'laugh', 'light', 'lilac', 'limbo', 'limit', 'lingo', 'lipid', 'livid', 'llama', 'loamy', 'loath', 'lobby', 'local', 'lofty', 'logic', 'login', 'loopy', 'lowly', 'loyal', 'lucid', 'lucky', 'lumpy', 'lunch', 'lying', 'lymph', 'lynch', 'macaw', 'macho', 'madam', 'madly', 'mafia', 'magic', 'magma', 'mambo', 'mamma', 'mammy', 'manga', 'mango', 'mangy', 'mania', 'manic', 'manly', 'match', 'maxim', 'might', 'milky', 'mimic', 'minim', 'minty', 'mocha', 'modal', 'mogul', 'moldy', 'month', 'moody', 'motif', 'motto', 'moult', 'mound', 'mount', 'mouth', 'mucky', 'muddy', 'mulch', 'mummy', 'munch', 'nanny', 'natal', 'naval', 'night', 'ninja', 'ninny', 'ninth', 'nobly', 'nomad', 'notch', 'nutty', 'nylon', 'nymph', 'octal', 'oddly', 'offal', 'onion', 'opium', 'optic', 'ought', 'outdo', 'outgo', 'ovoid', 'owing', 'paddy', 'pagan', 'paint', 'panic', 'papal', 'patch', 'patio', 'patty', 'phony', 'photo', 'piano', 'picky', 'piggy', 'pilot', 'pinch', 'pinky', 'pinto', 'pitch', 'pithy', 'pivot', 'pizza', 'plaid', 'plain', 'plait', 'plank', 'plant', 'plaza', 'pluck', 'plumb', 'plump', 'plunk', 'point', 'polka', 'polyp', 'pooch', 'poppy', 'pouch', 'pound', 'pouty', 'pubic', 'pudgy', 'puffy', 'pulpy', 'punch', 'pupal', 'pupil', 'puppy', 'putty', 'pygmy', 'quack', 'quail', 'qualm', 'quick', 'quill', 'quilt', 'quota', 'quoth', 'tabby', 'taboo', 'tacit', 'tacky', 'taffy', 'taint', 'tally', 'talon', 'tango', 'tangy', 'tatty', 'taunt', 'tawny', 'thank', 'thick', 'thigh', 'thing', 'think', 'thong', 'thumb', 'thump', 'tibia', 'tidal', 'tight', 'timid', 'titan', 'today', 'toddy', 'tonal', 'tonga', 'tonic', 'tooth', 'topaz', 'topic', 'total', 'touch', 'tough', 'toxic', 'toxin', 'tubal', 'tulip', 'tunic', 'twang', 'twixt', 'tying', 'uncut', 'undid', 'unfit', 'unify', 'union', 'unity', 'unlit', 'until', 'unzip', 'valid', 'vapid', 'vault', 'vaunt', 'vigil', 'villa', 'vinyl', 'viola', 'vital', 'vivid', 'vocal', 'vodka', 'voila', 'vomit', 'vouch', 'vying', 'wacky', 'wagon', 'waltz', 'watch', 'whack', 'which', 'whiff', 'whiny', 'whoop', 'widow', 'width', 'wight', 'willy', 'wimpy', 'winch', 'windy', 'witch', 'witty', 'woman', 'woody', 'wooly', 'woozy', 'would', 'wound', 'yacht', 'young', 'youth', 'zonal']\n",
      "Try cling\n",
      "What was the feedback00010\n",
      "['s', 'e', 'e', 'r', 'c', 'l', 'i', 'g']\n",
      "[]\n",
      "['abbot', 'about', 'adapt', 'adopt', 'afoot', 'annoy', 'aunty', 'banjo', 'baton', 'batty', 'bawdy', 'bayou', 'bobby', 'booby', 'booth', 'booty', 'boozy', 'bound', 'buddy', 'bunny', 'buxom', 'daddy', 'dandy', 'datum', 'daunt', 'donut', 'doubt', 'dowdy', 'downy', 'dummy', 'dumpy', 'fanny', 'fatty', 'fauna', 'foamy', 'found', 'funky', 'funny', 'fuzzy', 'handy', 'happy', 'haunt', 'hobby', 'hound', 'howdy', 'human', 'humph', 'hunky', 'jaunt', 'jazzy', 'jumbo', 'jumpy', 'junta', 'junto', 'kappa', 'kayak', 'known', 'madam', 'mambo', 'mamma', 'mammy', 'month', 'moody', 'motto', 'mound', 'mount', 'mouth', 'muddy', 'mummy', 'nanny', 'nomad', 'nutty', 'nymph', 'outdo', 'paddy', 'patty', 'phony', 'photo', 'poppy', 'pound', 'pouty', 'puffy', 'puppy', 'putty', 'quota', 'quoth', 'tabby', 'taboo', 'taffy', 'tatty', 'taunt', 'tawny', 'thank', 'thumb', 'thump', 'today', 'toddy', 'tooth', 'topaz', 'vaunt', 'vodka', 'whoop', 'woman', 'woody', 'woozy', 'wound', 'youth']\n",
      "Try jazzy\n",
      "What was the feedback00000\n",
      "['s', 'e', 'e', 'r', 'c', 'l', 'i', 'g', 'j', 'a', 'z', 'z', 'y']\n",
      "[]\n",
      "['booth', 'bound', 'buxom', 'donut', 'doubt', 'found', 'hound', 'humph', 'known', 'month', 'motto', 'mound', 'mount', 'mouth', 'outdo', 'photo', 'pound', 'quoth', 'thumb', 'thump', 'tooth', 'whoop', 'wound']\n",
      "Try tooth\n",
      "What was the feedback12000\n",
      "['s', 'e', 'e', 'r', 'c', 'l', 'i', 'g', 'j', 'a', 'z', 'z', 'y', 'o', 't', 'h']\n",
      "[('o', 1)]\n",
      "[]\n"
     ]
    },
    {
     "ename": "IndexError",
     "evalue": "list index out of range",
     "output_type": "error",
     "traceback": [
      "\u001b[0;31m---------------------------------------------------------------------------\u001b[0m",
      "\u001b[0;31mIndexError\u001b[0m                                Traceback (most recent call last)",
      "\u001b[0;32m/var/folders/st/x_vhp24d0s3f39fbdlpvxhqm0000gn/T/ipykernel_30075/769240080.py\u001b[0m in \u001b[0;36m<module>\u001b[0;34m\u001b[0m\n\u001b[1;32m      2\u001b[0m \u001b[0mcorrect_ltrs\u001b[0m \u001b[0;34m=\u001b[0m \u001b[0;34m[\u001b[0m\u001b[0;34m]\u001b[0m\u001b[0;34m\u001b[0m\u001b[0;34m\u001b[0m\u001b[0m\n\u001b[1;32m      3\u001b[0m \u001b[0;32mwhile\u001b[0m \u001b[0;32mTrue\u001b[0m\u001b[0;34m:\u001b[0m\u001b[0;34m\u001b[0m\u001b[0;34m\u001b[0m\u001b[0m\n\u001b[0;32m----> 4\u001b[0;31m     \u001b[0mrandom_word\u001b[0m \u001b[0;34m=\u001b[0m \u001b[0mrandom\u001b[0m\u001b[0;34m.\u001b[0m\u001b[0mchoice\u001b[0m\u001b[0;34m(\u001b[0m\u001b[0mwordle_revised_list\u001b[0m\u001b[0;34m)\u001b[0m\u001b[0;34m\u001b[0m\u001b[0;34m\u001b[0m\u001b[0m\n\u001b[0m\u001b[1;32m      5\u001b[0m     \u001b[0mprint\u001b[0m\u001b[0;34m(\u001b[0m\u001b[0;34m\"Try\"\u001b[0m\u001b[0;34m,\u001b[0m\u001b[0mrandom_word\u001b[0m\u001b[0;34m)\u001b[0m\u001b[0;34m\u001b[0m\u001b[0;34m\u001b[0m\u001b[0m\n\u001b[1;32m      6\u001b[0m \u001b[0;34m\u001b[0m\u001b[0m\n",
      "\u001b[0;32m~/anaconda3/lib/python3.9/random.py\u001b[0m in \u001b[0;36mchoice\u001b[0;34m(self, seq)\u001b[0m\n\u001b[1;32m    344\u001b[0m         \u001b[0;34m\"\"\"Choose a random element from a non-empty sequence.\"\"\"\u001b[0m\u001b[0;34m\u001b[0m\u001b[0;34m\u001b[0m\u001b[0m\n\u001b[1;32m    345\u001b[0m         \u001b[0;31m# raises IndexError if seq is empty\u001b[0m\u001b[0;34m\u001b[0m\u001b[0;34m\u001b[0m\u001b[0m\n\u001b[0;32m--> 346\u001b[0;31m         \u001b[0;32mreturn\u001b[0m \u001b[0mseq\u001b[0m\u001b[0;34m[\u001b[0m\u001b[0mself\u001b[0m\u001b[0;34m.\u001b[0m\u001b[0m_randbelow\u001b[0m\u001b[0;34m(\u001b[0m\u001b[0mlen\u001b[0m\u001b[0;34m(\u001b[0m\u001b[0mseq\u001b[0m\u001b[0;34m)\u001b[0m\u001b[0;34m)\u001b[0m\u001b[0;34m]\u001b[0m\u001b[0;34m\u001b[0m\u001b[0;34m\u001b[0m\u001b[0m\n\u001b[0m\u001b[1;32m    347\u001b[0m \u001b[0;34m\u001b[0m\u001b[0m\n\u001b[1;32m    348\u001b[0m     \u001b[0;32mdef\u001b[0m \u001b[0mshuffle\u001b[0m\u001b[0;34m(\u001b[0m\u001b[0mself\u001b[0m\u001b[0;34m,\u001b[0m \u001b[0mx\u001b[0m\u001b[0;34m,\u001b[0m \u001b[0mrandom\u001b[0m\u001b[0;34m=\u001b[0m\u001b[0;32mNone\u001b[0m\u001b[0;34m)\u001b[0m\u001b[0;34m:\u001b[0m\u001b[0;34m\u001b[0m\u001b[0;34m\u001b[0m\u001b[0m\n",
      "\u001b[0;31mIndexError\u001b[0m: list index out of range"
     ]
    }
   ],
   "source": [
    "drop_ltrs = []\n",
    "correct_ltrs = []\n",
    "while True:\n",
    "    random_word = random.choice(wordle_revised_list)\n",
    "    print(\"Try\",random_word)\n",
    "\n",
    "    feedback = [int(l) for l in input(\"What was the feedback\")]\n",
    "    if feedback == [2,2,2,2,2]:\n",
    "        break\n",
    "    for i,c in enumerate(feedback):\n",
    "        if c == 0:\n",
    "            drop_ltrs.append(random_word[i])\n",
    "        if c == 2:\n",
    "            correct_ltrs.append(tuple((random_word[i],i)))\n",
    "    print(drop_ltrs)\n",
    "    print(correct_ltrs)\n",
    "\n",
    "    wordle_revised_list = removeLetters(wordle_revised_list, drop_ltrs)\n",
    "    wordle_revised_list = removePosition(wordle_revised_list, correct_ltrs)\n",
    "    print(wordle_revised_list)\n",
    "    \n"
   ]
  },
  {
   "cell_type": "code",
   "execution_count": null,
   "id": "18b25769",
   "metadata": {},
   "outputs": [],
   "source": [
    "eword"
   ]
  }
 ],
 "metadata": {
  "kernelspec": {
   "display_name": "Python 3 (ipykernel)",
   "language": "python",
   "name": "python3"
  },
  "language_info": {
   "codemirror_mode": {
    "name": "ipython",
    "version": 3
   },
   "file_extension": ".py",
   "mimetype": "text/x-python",
   "name": "python",
   "nbconvert_exporter": "python",
   "pygments_lexer": "ipython3",
   "version": "3.9.7"
  }
 },
 "nbformat": 4,
 "nbformat_minor": 5
}
