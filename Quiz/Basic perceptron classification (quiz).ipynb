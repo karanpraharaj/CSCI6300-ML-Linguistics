{
 "cells": [
  {
   "cell_type": "code",
   "execution_count": 39,
   "id": "dbd41e0f",
   "metadata": {},
   "outputs": [],
   "source": [
    "def dotproduct(vector1, vector2):\n",
    "    vectors = zip(vector1, vector2)\n",
    "    dot = sum([x*y for (x, y) in vectors])\n",
    "    return dot"
   ]
  },
  {
   "cell_type": "code",
   "execution_count": 40,
   "id": "794cce0b",
   "metadata": {},
   "outputs": [
    {
     "data": {
      "text/plain": [
       "6"
      ]
     },
     "execution_count": 40,
     "metadata": {},
     "output_type": "execute_result"
    }
   ],
   "source": [
    "dotproduct([1,1,1,0,1], [3,1,2,0,0])"
   ]
  },
  {
   "cell_type": "code",
   "execution_count": 41,
   "id": "2edf26d7",
   "metadata": {},
   "outputs": [
    {
     "data": {
      "text/plain": [
       "3"
      ]
     },
     "execution_count": 41,
     "metadata": {},
     "output_type": "execute_result"
    }
   ],
   "source": [
    "sum([2,1])"
   ]
  },
  {
   "cell_type": "code",
   "execution_count": 53,
   "id": "5dca662e",
   "metadata": {},
   "outputs": [],
   "source": [
    "def classify(feature_vector, weight_vectors):\n",
    "    max_class = -1\n",
    "    max_dot_product = -100000\n",
    "    for idx, i in enumerate(weight_vectors):\n",
    "        dot_product = dotproduct(feature_vector, i)\n",
    "        if dot_product > max_dot_product:\n",
    "            max_dot_product = dot_product\n",
    "            max_class = idx\n",
    "    \n",
    "    return max_class"
   ]
  },
  {
   "cell_type": "code",
   "execution_count": 54,
   "id": "8121587f",
   "metadata": {},
   "outputs": [],
   "source": [
    "f1 = [1,1,1,0,1]  # [Bias, win, game, vote, the] (\"win the game\")\n",
    "f2 = [1,1,0,1,1]  # [Bias, win, game, vote, the] (\"win the vote\")\n",
    "\n",
    "wsports = [-2,4,4,0,0]\n",
    "wpolitics = [1,2,0,4,0]\n",
    "wtech = [2,0,2,0,0]"
   ]
  },
  {
   "cell_type": "code",
   "execution_count": 55,
   "id": "b9f8f616",
   "metadata": {},
   "outputs": [
    {
     "data": {
      "text/plain": [
       "0"
      ]
     },
     "execution_count": 55,
     "metadata": {},
     "output_type": "execute_result"
    }
   ],
   "source": [
    "classify(f1, [wsports, wpolitics, wtech])"
   ]
  },
  {
   "cell_type": "code",
   "execution_count": 56,
   "id": "76b4639b",
   "metadata": {},
   "outputs": [
    {
     "data": {
      "text/plain": [
       "1"
      ]
     },
     "execution_count": 56,
     "metadata": {},
     "output_type": "execute_result"
    }
   ],
   "source": [
    "classify(f2, [wsports, wpolitics, wtech])"
   ]
  },
  {
   "cell_type": "code",
   "execution_count": null,
   "id": "75a27d0b",
   "metadata": {},
   "outputs": [],
   "source": []
  }
 ],
 "metadata": {
  "kernelspec": {
   "display_name": "Python 3 (ipykernel)",
   "language": "python",
   "name": "python3"
  },
  "language_info": {
   "codemirror_mode": {
    "name": "ipython",
    "version": 3
   },
   "file_extension": ".py",
   "mimetype": "text/x-python",
   "name": "python",
   "nbconvert_exporter": "python",
   "pygments_lexer": "ipython3",
   "version": "3.9.7"
  }
 },
 "nbformat": 4,
 "nbformat_minor": 5
}
