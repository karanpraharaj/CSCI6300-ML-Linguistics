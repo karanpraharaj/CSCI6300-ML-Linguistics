{
 "cells": [
  {
   "cell_type": "code",
   "execution_count": 4,
   "id": "69b178be",
   "metadata": {},
   "outputs": [],
   "source": [
    "frequencies = {}\n",
    "mystring = \"my hovercraft is full of eels\" \n",
    "\n",
    "for c in mystring:\n",
    "    if c in frequencies:\n",
    "        frequencies[c] += 1\n",
    "    else:\n",
    "        frequencies[c] = 1"
   ]
  },
  {
   "cell_type": "code",
   "execution_count": null,
   "id": "dca8bf56",
   "metadata": {},
   "outputs": [],
   "source": [
    "import tensorflow as tf"
   ]
  },
  {
   "cell_type": "code",
   "execution_count": 5,
   "id": "96cbf30d",
   "metadata": {},
   "outputs": [
    {
     "data": {
      "text/plain": [
       "{'m': 1,\n",
       " 'y': 1,\n",
       " ' ': 5,\n",
       " 'h': 1,\n",
       " 'o': 2,\n",
       " 'v': 1,\n",
       " 'e': 3,\n",
       " 'r': 2,\n",
       " 'c': 1,\n",
       " 'a': 1,\n",
       " 'f': 3,\n",
       " 't': 1,\n",
       " 'i': 1,\n",
       " 's': 2,\n",
       " 'u': 1,\n",
       " 'l': 3}"
      ]
     },
     "execution_count": 5,
     "metadata": {},
     "output_type": "execute_result"
    }
   ],
   "source": [
    "frequencies"
   ]
  },
  {
   "cell_type": "code",
   "execution_count": null,
   "id": "3e4cd87c",
   "metadata": {},
   "outputs": [],
   "source": []
  }
 ],
 "metadata": {
  "kernelspec": {
   "display_name": "Python 3 (ipykernel)",
   "language": "python",
   "name": "python3"
  },
  "language_info": {
   "codemirror_mode": {
    "name": "ipython",
    "version": 3
   },
   "file_extension": ".py",
   "mimetype": "text/x-python",
   "name": "python",
   "nbconvert_exporter": "python",
   "pygments_lexer": "ipython3",
   "version": "3.9.7"
  }
 },
 "nbformat": 4,
 "nbformat_minor": 5
}
