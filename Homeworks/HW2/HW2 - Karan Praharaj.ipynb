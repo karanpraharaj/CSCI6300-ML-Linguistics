{
 "cells": [
  {
   "cell_type": "code",
   "execution_count": 31,
   "id": "1c8614b7",
   "metadata": {},
   "outputs": [],
   "source": [
    "import math\n",
    "import os"
   ]
  },
  {
   "cell_type": "code",
   "execution_count": 42,
   "id": "74854e0e",
   "metadata": {},
   "outputs": [],
   "source": [
    "def read_file(file_path):\n",
    "    lines = [line.strip() for line in open(file_path)]\n",
    "    no_of_reviews = len(lines)\n",
    "    words = []\n",
    "    \n",
    "    for l in lines:\n",
    "        words.extend(l.split())\n",
    "            \n",
    "    return words, no_of_reviews"
   ]
  },
  {
   "cell_type": "markdown",
   "id": "6f322ba9",
   "metadata": {},
   "source": [
    "# Setting up bag of words"
   ]
  },
  {
   "cell_type": "code",
   "execution_count": 65,
   "id": "92695702",
   "metadata": {},
   "outputs": [],
   "source": [
    "poswords, num_pos_reviews = read_file('hw2data/pos.train')\n",
    "negwords, num_neg_reviews = read_file('hw2data/neg.train')"
   ]
  },
  {
   "cell_type": "code",
   "execution_count": 71,
   "id": "84246ed1",
   "metadata": {},
   "outputs": [],
   "source": [
    "allwords = set(poswords+negwords)"
   ]
  },
  {
   "cell_type": "code",
   "execution_count": 44,
   "id": "883b65c2",
   "metadata": {},
   "outputs": [],
   "source": [
    "total_reviews = num_pos_reviews + num_neg_reviews"
   ]
  },
  {
   "cell_type": "code",
   "execution_count": 72,
   "id": "45ae9765",
   "metadata": {},
   "outputs": [],
   "source": [
    "pos_dict = {}\n",
    "neg_dict = {}\n",
    "\n",
    "for pos_word in poswords:\n",
    "    if pos_word in pos_dict:\n",
    "        pos_dict[pos_word]+=1\n",
    "    else:\n",
    "        pos_dict[pos_word]=0\n",
    "\n",
    "for neg_word in negwords:\n",
    "    if neg_word in neg_dict:\n",
    "        neg_dict[neg_word]+=1\n",
    "    else:\n",
    "        neg_dict[neg_word]=0\n",
    "\n",
    "\n"
   ]
  },
  {
   "cell_type": "code",
   "execution_count": 73,
   "id": "1535d001",
   "metadata": {},
   "outputs": [],
   "source": [
    "for word in allwords:\n",
    "    if word not in pos_dict:\n",
    "        pos_dict[word]=0.5\n",
    "    if word not in neg_dict:\n",
    "        neg_dict[word]=0.5"
   ]
  },
  {
   "cell_type": "code",
   "execution_count": 74,
   "id": "ae926734",
   "metadata": {},
   "outputs": [],
   "source": [
    "for pos_word in pos_dict:\n",
    "    pos_dict[pos_word]+=0.5\n",
    "\n",
    "for neg_word in neg_dict:\n",
    "    neg_dict[neg_word]+=0.5"
   ]
  },
  {
   "cell_type": "code",
   "execution_count": 75,
   "id": "b4454243",
   "metadata": {},
   "outputs": [
    {
     "data": {
      "text/plain": [
       "48622"
      ]
     },
     "execution_count": 75,
     "metadata": {},
     "output_type": "execute_result"
    }
   ],
   "source": [
    "len(pos_dict)"
   ]
  },
  {
   "cell_type": "code",
   "execution_count": 76,
   "id": "34158443",
   "metadata": {},
   "outputs": [
    {
     "data": {
      "text/plain": [
       "48622"
      ]
     },
     "execution_count": 76,
     "metadata": {},
     "output_type": "execute_result"
    }
   ],
   "source": [
    "len(neg_dict)"
   ]
  },
  {
   "cell_type": "code",
   "execution_count": 99,
   "id": "3c610419",
   "metadata": {},
   "outputs": [],
   "source": [
    "log_prior = {}\n",
    "\n",
    "log_prior['pos'] = math.log2(num_pos_reviews/total_reviews)\n",
    "log_prior['neg'] = math.log2(num_neg_reviews/total_reviews)"
   ]
  },
  {
   "cell_type": "markdown",
   "id": "25a0ba98",
   "metadata": {},
   "source": [
    "# Naive Bayes implementation"
   ]
  },
  {
   "cell_type": "code",
   "execution_count": 103,
   "id": "298f43fa",
   "metadata": {},
   "outputs": [],
   "source": [
    "def naive_bayes(review_words):\n",
    "    p_rev_pos = likelihood(review_words,\"pos\")\n",
    "    p_rev_neg = likelihood(review_words,\"neg\")\n",
    "    \n",
    "    total_pos_prob = p_rev_pos + log_prior['pos']\n",
    "    total_neg_prob = p_rev_neg + log_prior['neg']\n",
    "    \n",
    "    class_prediction = 1 if total_pos_prob>total_neg_prob else 0\n",
    "    \n",
    "    return class_prediction"
   ]
  },
  {
   "cell_type": "code",
   "execution_count": 96,
   "id": "3c8e3802",
   "metadata": {},
   "outputs": [],
   "source": [
    "def likelihood(word_list, rev_class):\n",
    "    log_likelihood = 0\n",
    "    if rev_class == \"pos\":\n",
    "        for word in word_list:\n",
    "            log_likelihood += math.log2(pos_dict[word]/sum(pos_dict.values()))\n",
    "\n",
    "    if rev_class == \"neg\":\n",
    "        for word in word_list:\n",
    "            log_likelihood += math.log2(neg_dict[word]/sum(neg_dict.values()))\n",
    "    \n",
    "    return log_likelihood"
   ]
  },
  {
   "cell_type": "code",
   "execution_count": 101,
   "id": "8db32e70",
   "metadata": {},
   "outputs": [
    {
     "data": {
      "text/plain": [
       "{'pos': -0.9699680499708202, 'neg': -1.030670426391585}"
      ]
     },
     "execution_count": 101,
     "metadata": {},
     "output_type": "execute_result"
    }
   ],
   "source": [
    "log_prior"
   ]
  },
  {
   "cell_type": "markdown",
   "id": "54a37d8c",
   "metadata": {},
   "source": [
    "# Evaluating our algorithm"
   ]
  },
  {
   "cell_type": "code",
   "execution_count": 105,
   "id": "d229923c",
   "metadata": {},
   "outputs": [],
   "source": [
    "pos_test_dir = '/Users/karanpraharaj/Desktop/Repos/CSCI6300-ML+Linguistics/Homeworks/HW2/hw2data/test/pos'\n",
    "preds_for_pos_revs = {'pos':0, 'neg': 0}\n",
    "for file in os.listdir(pos_test_dir):\n",
    "    review = os.path.join(pos_test_dir, file)\n",
    "    lines = [line.strip() for line in open(review)]\n",
    "    words = []\n",
    "    review_words =[]\n",
    "    \n",
    "    for l in lines:\n",
    "        words.extend(l.split())\n",
    "    for word in words:\n",
    "        if word in allwords:\n",
    "            review_words.append(word)\n",
    "    \n",
    "    preds_for_pos_revs['pos' if naive_bayes(review_words)==1 else 'neg']+=1\n",
    "    "
   ]
  },
  {
   "cell_type": "code",
   "execution_count": 111,
   "id": "4525adff",
   "metadata": {},
   "outputs": [
    {
     "data": {
      "text/plain": [
       "{'pos': 80, 'neg': 20}"
      ]
     },
     "execution_count": 111,
     "metadata": {},
     "output_type": "execute_result"
    }
   ],
   "source": [
    "preds_for_pos_revs"
   ]
  },
  {
   "cell_type": "code",
   "execution_count": 108,
   "id": "740aab21",
   "metadata": {},
   "outputs": [],
   "source": [
    "neg_test_dir = '/Users/karanpraharaj/Desktop/Repos/CSCI6300-ML+Linguistics/Homeworks/HW2/hw2data/test/neg'\n",
    "preds_for_neg_revs = {'pos':0, 'neg': 0}\n",
    "for file in os.listdir(neg_test_dir):\n",
    "    review = os.path.join(neg_test_dir, file)\n",
    "    lines = [line.strip() for line in open(review)]\n",
    "    words = []\n",
    "    review_words =[]\n",
    "    \n",
    "    for l in lines:\n",
    "        words.extend(l.split())\n",
    "    for word in words:\n",
    "        if word in allwords:\n",
    "            review_words.append(word)\n",
    "    \n",
    "    preds_for_neg_revs['pos' if naive_bayes(review_words)==1 else 'neg']+=1\n",
    "    "
   ]
  },
  {
   "cell_type": "code",
   "execution_count": 110,
   "id": "d010b1c3",
   "metadata": {},
   "outputs": [
    {
     "data": {
      "text/plain": [
       "{'pos': 15, 'neg': 85}"
      ]
     },
     "execution_count": 110,
     "metadata": {},
     "output_type": "execute_result"
    }
   ],
   "source": [
    "preds_for_neg_revs"
   ]
  },
  {
   "cell_type": "code",
   "execution_count": 119,
   "id": "b183718d",
   "metadata": {},
   "outputs": [],
   "source": [
    "total_accuracy = (preds_for_neg_revs['neg'] + preds_for_pos_revs['pos'])/(sum(preds_for_neg_revs.values()) + sum(preds_for_pos_revs.values()))*100"
   ]
  },
  {
   "cell_type": "markdown",
   "id": "9dc5fa55",
   "metadata": {},
   "source": [
    "# Final accuracy on test reviews"
   ]
  },
  {
   "cell_type": "code",
   "execution_count": 120,
   "id": "07a2a7d5",
   "metadata": {},
   "outputs": [
    {
     "data": {
      "text/plain": [
       "82.5"
      ]
     },
     "execution_count": 120,
     "metadata": {},
     "output_type": "execute_result"
    }
   ],
   "source": [
    "total_accuracy"
   ]
  },
  {
   "cell_type": "markdown",
   "id": "f517cf5f",
   "metadata": {},
   "source": [
    "# Accuracy on rottentomatoes reviews (extra credit)\n",
    "\"fresh\" reviews treated as positive. \"rotten\" reviews treated as negative."
   ]
  },
  {
   "cell_type": "code",
   "execution_count": 121,
   "id": "f54de7ae",
   "metadata": {},
   "outputs": [
    {
     "name": "stdout",
     "output_type": "stream",
     "text": [
      "it's\n"
     ]
    }
   ],
   "source": [
    "print('it\\'s')"
   ]
  },
  {
   "cell_type": "code",
   "execution_count": 124,
   "id": "51c3c0b1",
   "metadata": {},
   "outputs": [],
   "source": [
    "rotten_reviews = ['It’s all mildly amusing, mildly exciting and entirely routine, just as you might expect from a director such as the reliably faceless Ruben Fleischer (Venom), who manages to go from one hit to the next without ever showing any particular talent.',\n",
    "                 'Uncharted is bland and disappointing without being outright disastrous.',\n",
    "                 'Uncharted drops toward the wrong end of the chart every time Holland and Wahlberg engage in juvenile bickering, which alas is all too often.',\n",
    "                 'Uncharted reeks of cynicism and presents an inept understanding of its source material.',\n",
    "                 'The term aggressively mediocre applies to many video game adaptations, but we also do not need further exhibits for people to convince us that the National Treasure movies are good because others are lamer.',\n",
    "                 'Now that another great franchise has failed to live up to the hype, theres even more evidence that what makes a movie succeed and what makes a video game succeed may be mutually exclusiveno matter how much DNA they seem to share.',\n",
    "                 'Thus, the critical process is simplified because the film sucks both as an adaptation and on its own merits (or lack thereof).',\n",
    "                 'Uncharted drops toward the wrong end of the chart every time Holland and Wahlberg engage in juvenile bickering, which alas is all too often.',\n",
    "                 'So unfailingly mediocre that I suspect even fans of the game will come away disappointed.',\n",
    "                 'Rather than find a way to surprise the audience, this is more of a film going through the motions and hoping the strength of the leads is enough to help it get by.',\n",
    "                 'Makes me wonder why someone didnt find the gold before, since it\\'s rooted in available history, and the two white men break into ancient buildings in broad daylight with no blowback. Wahlberg says \"kid\" more than a goat shepherd in the herd\\'s nursery.',\n",
    "                 'Uncharted is not so much unenjoyable as it is curiously empty.',\n",
    "                 'If less is more, “Uncharted” must be a masterpiece. It’s bloodless, heartless, joyless, sexless and, with one exception, charmless.',\n",
    "                 'An ungainly excrescence.',\n",
    "                 'While Wahlberg and Holland have star power and on-screen chemistry, this is the kind of film that should have us on the edge of our seats instead of looking at the clock. Unfortunately Uncharted is uninteresting, untenable and unbelievable.',\n",
    "                 'The opening scene is so poor with the CGI and shaky cam that it takes me out of this film, and I could not get back into it afterwards.',\n",
    "                 'Thus, the critical process is simplified because the film sucks both as an adaptation and on its own merits (or lack thereof).',\n",
    "                 'Uncharted drops toward the wrong end of the chart every time Holland and Wahlberg engage in juvenile bickering, which alas is all too often.',\n",
    "                 'Wahlberg and Holland have zero chemistry. Plot full of nothing.',\n",
    "                 'I don\\'t hate this Uncharted movie, but if you go into this movie as an Uncharted fan, I feel like you\\'re going to find it lacking.',\n",
    "            ]\n",
    "\n",
    "fresh_reviews = ['One of those movies that isnt particularly special in the macro but does all the little things right',\n",
    "                 'Uncharted had a surprising amount of really cool, completely over-the-top action sequences that I found fitting and fully entertaining.',\n",
    "                 'Moviegoers can forgive a lot if the film has some nice pacing, decent chemistry and a few laughs along the way, and Uncharted ticks all those boxes.',\n",
    "                 'It\\'s far from perfect, but still a good time at the movies with Tom Holland.',\n",
    "                 'There is enough respect for the video games here to know they care about the fans. For general audiences who just wanted another Indiana Jones-esque treasure romp, youre in for a rollicking thrill ride with a cast of charmers led by Holland and Wahlberg',\n",
    "                 '\"Uncharted\" isn\\'t a terrible movie it\\'s enjoyable enough with a few sprawling action sequences but the wannabe \"National Treasure\" is a generic action movie that never captures the full excitement of playing through the franchise.',\n",
    "                 'This film was good clean fun with a little bit of history and sightseeing added to the mix. Holland and Wahlberg have good chemistry--not exactly buddies, but close to mentor and student. The crosses are both gold and double. Buckle up in 4DX if you can.',\n",
    "                 'This an entertaining experience from start to finish with excellent chemistry between the cast, a number of surprises, and a delightful connection to its inspiration...',\n",
    "                 'Yes, trust is its own treasure -- and their gold-digging partnership promises a sequel.',\n",
    "                 'I\\'s mostly in good (if not particularly clever) fun, entertaining enough, but with the nutritional value of a bag of Twizzlers.',\n",
    "                 'Thanks to some nice chemistry between its stars and smart casting of its two more intriguing female roles, it is much better than the script from Rafe Lee Junkins, Art Marcum and Matt Holloway they are handed.',\n",
    "                 'Uncharted is actually quite entertaining, despite essentially being Indiana Jones Lite. It\\'s not attempting to break any new ground in the adventure genre, it\\'s simply striving to be an enjoyable popcorn flick and it succeeds.',\n",
    "                 'A generic, although fun, action movie. If they made another Uncharted movie, I would see it in a heartbeat.',\n",
    "                 'After over a decade being in development hell, Uncharted movie amounts to a serviceable crowd pleaser. The movie doesnt really gets its mojo until the third act, despite having a ton of action scenes moving at breakneck speed.',\n",
    "                 'Fleischer consistently displays strong imagination when it comes to the action set pieces, and once we get through the set-up, these come fast and furious.',\n",
    "                 'Uncharted proved to be a great time at the movies, a film I had fun with every step of the way and one I cant wait to watch again.',\n",
    "                 'Though theres the occasional fan-service moment, most of Uncharted succeeds as being its own product, something thats truly surprising when it comes to the realms of the video game feature.',\n",
    "                 'Holland is the real draw here and he gives it all he\\'s got, providing a charming, relentlessly likable performance that\\'s easily the best thing about this film.',\n",
    "                 'This movie worked - mainly due to how charismatic and talented Tom Holland is in the role of Nathan Drake. It\\'s a fun watch with great action sequences. Worth checking out whether you\\'re a fan of the game or not.',\n",
    "                 'Apart from some missteps, Uncharted is a fun movie centered on a charismatic lead with enjoyable set pieces and engaging relationships.',\n",
    "            ]"
   ]
  },
  {
   "cell_type": "code",
   "execution_count": 127,
   "id": "ec3ea2c2",
   "metadata": {},
   "outputs": [],
   "source": [
    "preds_for_rotten_revs = {'pos':0, 'neg': 0}\n",
    "\n",
    "for review in rotten_reviews:\n",
    "    words = review.split()\n",
    "    review_words =[]\n",
    "    \n",
    "    for word in words:\n",
    "        if word in allwords:\n",
    "            review_words.append(word)\n",
    "    \n",
    "    preds_for_rotten_revs['pos' if naive_bayes(review_words)==1 else 'neg']+=1\n",
    "    "
   ]
  },
  {
   "cell_type": "code",
   "execution_count": 128,
   "id": "473d2da1",
   "metadata": {},
   "outputs": [
    {
     "data": {
      "text/plain": [
       "{'pos': 5, 'neg': 15}"
      ]
     },
     "execution_count": 128,
     "metadata": {},
     "output_type": "execute_result"
    }
   ],
   "source": [
    "preds_for_rotten_revs"
   ]
  },
  {
   "cell_type": "code",
   "execution_count": 129,
   "id": "281002c4",
   "metadata": {},
   "outputs": [],
   "source": [
    "preds_for_fresh_revs = {'pos':0, 'neg': 0}\n",
    "\n",
    "for review in fresh_reviews:\n",
    "    words = review.split()\n",
    "    review_words =[]\n",
    "    \n",
    "    for word in words:\n",
    "        if word in allwords:\n",
    "            review_words.append(word)\n",
    "    \n",
    "    preds_for_fresh_revs['pos' if naive_bayes(review_words)==1 else 'neg']+=1\n",
    "    "
   ]
  },
  {
   "cell_type": "code",
   "execution_count": 130,
   "id": "3a6fc95c",
   "metadata": {},
   "outputs": [
    {
     "data": {
      "text/plain": [
       "{'pos': 14, 'neg': 6}"
      ]
     },
     "execution_count": 130,
     "metadata": {},
     "output_type": "execute_result"
    }
   ],
   "source": [
    "preds_for_fresh_revs"
   ]
  },
  {
   "cell_type": "code",
   "execution_count": 131,
   "id": "5d1acc34",
   "metadata": {},
   "outputs": [],
   "source": [
    "total_accuracy = (preds_for_rotten_revs['neg'] + preds_for_fresh_revs['pos'])/(sum(preds_for_rotten_revs.values()) + sum(preds_for_fresh_revs.values()))*100"
   ]
  },
  {
   "cell_type": "code",
   "execution_count": 132,
   "id": "22369c2a",
   "metadata": {},
   "outputs": [
    {
     "data": {
      "text/plain": [
       "72.5"
      ]
     },
     "execution_count": 132,
     "metadata": {},
     "output_type": "execute_result"
    }
   ],
   "source": [
    "total_accuracy"
   ]
  },
  {
   "cell_type": "markdown",
   "id": "824ecc45",
   "metadata": {},
   "source": [
    "### Thus, the total accuracy on reviews from rottentomatoes.com isn't higher than the test accuracy on our test sets, but it is still a very respectable 72.5%."
   ]
  },
  {
   "cell_type": "code",
   "execution_count": null,
   "id": "476fa936",
   "metadata": {},
   "outputs": [],
   "source": []
  }
 ],
 "metadata": {
  "kernelspec": {
   "display_name": "Python 3 (ipykernel)",
   "language": "python",
   "name": "python3"
  },
  "language_info": {
   "codemirror_mode": {
    "name": "ipython",
    "version": 3
   },
   "file_extension": ".py",
   "mimetype": "text/x-python",
   "name": "python",
   "nbconvert_exporter": "python",
   "pygments_lexer": "ipython3",
   "version": "3.9.7"
  }
 },
 "nbformat": 4,
 "nbformat_minor": 5
}
