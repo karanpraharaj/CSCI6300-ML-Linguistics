{
 "cells": [
  {
   "cell_type": "code",
   "execution_count": 18,
   "id": "8ca6c566",
   "metadata": {},
   "outputs": [],
   "source": [
    "def filetolist(filename):\n",
    "        data = [line.strip() for line in open(\"hw3data/\"+filename)]\n",
    "        tuple_list = []\n",
    "        for i,line in enumerate(data):\n",
    "            feature_vector = [0]*9493\n",
    "            feature_vector[9492] = 1\n",
    "            label = line[0]\n",
    "            features = line[2:].split(' ')\n",
    "            for j in features:\n",
    "                feature_idx = int(j.split(':')[0])\n",
    "                feature_vector[feature_idx] = 1\n",
    "            tuple_list.append(tuple((label,feature_vector)))\n",
    "\n",
    "\n",
    "        return tuple_list"
   ]
  },
  {
   "cell_type": "code",
   "execution_count": 20,
   "id": "60b9fd65",
   "metadata": {},
   "outputs": [],
   "source": [
    "final_list = filetolist('restaurant_train.txt')"
   ]
  },
  {
   "cell_type": "code",
   "execution_count": 32,
   "id": "78c258df",
   "metadata": {},
   "outputs": [],
   "source": [
    "def dotproduct(vector1, vector2):\n",
    "        vectors = zip(vector1, vector2)\n",
    "        dot = sum([x*y for (x, y) in vectors])\n",
    "        return dot"
   ]
  },
  {
   "cell_type": "code",
   "execution_count": 39,
   "id": "c9a4dc5e",
   "metadata": {},
   "outputs": [],
   "source": [
    "def vec_add(vector1, vector2):\n",
    "        sum_vector = []\n",
    "        for i,j in zip(vector1,vector2):\n",
    "            sum_vector.append(i+j)\n",
    "\n",
    "        return sum_vector"
   ]
  },
  {
   "cell_type": "code",
   "execution_count": 40,
   "id": "7ddcbae6",
   "metadata": {},
   "outputs": [],
   "source": [
    "def vec_sub(vector1, vector2):\n",
    "        diff_vector = []\n",
    "        for i,j in zip(vector1,vector2):\n",
    "            diff_vector.append(i-j)\n",
    "\n",
    "        return diff_vector"
   ]
  },
  {
   "cell_type": "code",
   "execution_count": 41,
   "id": "1e6d3c05",
   "metadata": {},
   "outputs": [
    {
     "data": {
      "text/plain": [
       "[2, 1, 3]"
      ]
     },
     "execution_count": 41,
     "metadata": {},
     "output_type": "execute_result"
    }
   ],
   "source": [
    "vec_add(v1,v2)"
   ]
  },
  {
   "cell_type": "code",
   "execution_count": null,
   "id": "e4058e8f",
   "metadata": {},
   "outputs": [],
   "source": []
  }
 ],
 "metadata": {
  "kernelspec": {
   "display_name": "Python 3 (ipykernel)",
   "language": "python",
   "name": "python3"
  },
  "language_info": {
   "codemirror_mode": {
    "name": "ipython",
    "version": 3
   },
   "file_extension": ".py",
   "mimetype": "text/x-python",
   "name": "python",
   "nbconvert_exporter": "python",
   "pygments_lexer": "ipython3",
   "version": "3.9.7"
  }
 },
 "nbformat": 4,
 "nbformat_minor": 5
}
