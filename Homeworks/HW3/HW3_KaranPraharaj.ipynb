{
 "cells": [
  {
   "cell_type": "code",
   "execution_count": 60,
   "id": "8ca6c566",
   "metadata": {},
   "outputs": [],
   "source": [
    "def filetolist(filename):\n",
    "        data = [line.strip() for line in open(\"hw3data/\"+filename)]\n",
    "        tuple_list = []\n",
    "        for i,line in enumerate(data):\n",
    "            feature_vector = [0]*9493\n",
    "            feature_vector[9492] = 1\n",
    "            label = line[0]\n",
    "            features = line[2:].split(' ')\n",
    "            for j in features:\n",
    "                feature_idx = int(j.split(':')[0])\n",
    "                feature_vector[feature_idx] = 1\n",
    "            tuple_list.append(tuple((label,feature_vector)))\n",
    "\n",
    "\n",
    "        return tuple_list"
   ]
  },
  {
   "cell_type": "code",
   "execution_count": 61,
   "id": "60b9fd65",
   "metadata": {},
   "outputs": [],
   "source": [
    "final_list = filetolist('restaurant_train.txt')"
   ]
  },
  {
   "cell_type": "code",
   "execution_count": 31,
   "id": "78c258df",
   "metadata": {},
   "outputs": [],
   "source": [
    "def dotproduct(vector1, vector2):\n",
    "        vectors = zip(vector1, vector2)\n",
    "        dot = sum([x*y for (x, y) in vectors])\n",
    "        return dot"
   ]
  },
  {
   "cell_type": "code",
   "execution_count": 32,
   "id": "c9a4dc5e",
   "metadata": {},
   "outputs": [],
   "source": [
    "def vec_add(vector1, vector2):\n",
    "        sum_vector = []\n",
    "        for i,j in zip(vector1,vector2):\n",
    "            sum_vector.append(i+j)\n",
    "\n",
    "        return sum_vector"
   ]
  },
  {
   "cell_type": "code",
   "execution_count": 33,
   "id": "7ddcbae6",
   "metadata": {},
   "outputs": [],
   "source": [
    "def vec_sub(vector1, vector2):\n",
    "        diff_vector = []\n",
    "        for i,j in zip(vector1,vector2):\n",
    "            diff_vector.append(i-j)\n",
    "\n",
    "        return diff_vector"
   ]
  },
  {
   "cell_type": "code",
   "execution_count": 41,
   "id": "1e6d3c05",
   "metadata": {},
   "outputs": [
    {
     "data": {
      "text/plain": [
       "[2, 1, 3]"
      ]
     },
     "execution_count": 41,
     "metadata": {},
     "output_type": "execute_result"
    }
   ],
   "source": [
    "vec_add(v1,v2)"
   ]
  },
  {
   "cell_type": "code",
   "execution_count": 109,
   "id": "e4058e8f",
   "metadata": {},
   "outputs": [],
   "source": [
    "w = [None, None, None]\n",
    "w[0], w[1], w[2] = [0]*9493, [0]*9493, [0]*9493\n",
    "w[0][9492], w[1][9492], w[2][9492] = 1, 1, 1\n",
    "\n",
    "#class_weights_list = [w[0], w[1], w[2]]"
   ]
  },
  {
   "cell_type": "code",
   "execution_count": null,
   "id": "0176e447",
   "metadata": {},
   "outputs": [],
   "source": []
  },
  {
   "cell_type": "code",
   "execution_count": 99,
   "id": "d567d6f7",
   "metadata": {},
   "outputs": [
    {
     "data": {
      "text/plain": [
       "1"
      ]
     },
     "execution_count": 99,
     "metadata": {},
     "output_type": "execute_result"
    }
   ],
   "source": [
    "dotproduct(final_list[0][1], w[0])"
   ]
  },
  {
   "cell_type": "code",
   "execution_count": 110,
   "id": "b35c5788",
   "metadata": {},
   "outputs": [],
   "source": [
    "for i in range(0,20):\n",
    "    for example in final_list:\n",
    "        label = int(example[0])\n",
    "        features = example[1]\n",
    "        \n",
    "        pred_class = 0\n",
    "        max_score = dotproduct(features, w[0])\n",
    "        \n",
    "        for potential_class in range(1, len(w)):\n",
    "            dot_prod_score = dotproduct(features, w[potential_class])\n",
    "            if dot_prod_score>max_score:\n",
    "                pred_class = potential_class\n",
    "                max_score = dot_prod_score\n",
    "                print\n",
    "\n",
    "        if pred_class != label:\n",
    "            w[pred_class] = vec_sub(w[pred_class],features)\n",
    "            w[label] = vec_add(w[label], features)\n",
    "\n"
   ]
  },
  {
   "cell_type": "code",
   "execution_count": 111,
   "id": "b66aa414",
   "metadata": {},
   "outputs": [],
   "source": [
    "test_final_list = filetolist('restaurant_test.txt')"
   ]
  },
  {
   "cell_type": "code",
   "execution_count": 113,
   "id": "d9dda54f",
   "metadata": {},
   "outputs": [
    {
     "name": "stdout",
     "output_type": "stream",
     "text": [
      "Accuracy =  0.32\n"
     ]
    }
   ],
   "source": [
    "pred_class = None\n",
    "correct_counter = 0\n",
    "\n",
    "for example in test_final_list:\n",
    "    label = int(example[0])\n",
    "\n",
    "    max_score = dotproduct(features, w[0])\n",
    "    for potential_class in range(1, len(w)):\n",
    "            dot_prod_score = dotproduct(features, w[potential_class])\n",
    "            if dot_prod_score>max_score:\n",
    "                pred_class = potential_class\n",
    "                max_score = dot_prod_score\n",
    "            \n",
    "    if pred_class==label:\n",
    "        correct_counter += 1\n",
    "print(\"Accuracy = \", correct_counter/len(test_final_list))"
   ]
  },
  {
   "cell_type": "code",
   "execution_count": null,
   "id": "06a1a595",
   "metadata": {},
   "outputs": [],
   "source": []
  }
 ],
 "metadata": {
  "kernelspec": {
   "display_name": "Python 3 (ipykernel)",
   "language": "python",
   "name": "python3"
  },
  "language_info": {
   "codemirror_mode": {
    "name": "ipython",
    "version": 3
   },
   "file_extension": ".py",
   "mimetype": "text/x-python",
   "name": "python",
   "nbconvert_exporter": "python",
   "pygments_lexer": "ipython3",
   "version": "3.9.10"
  }
 },
 "nbformat": 4,
 "nbformat_minor": 5
}
